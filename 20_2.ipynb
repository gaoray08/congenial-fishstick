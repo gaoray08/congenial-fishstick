{
  "nbformat": 4,
  "nbformat_minor": 0,
  "metadata": {
    "colab": {
      "provenance": [],
      "authorship_tag": "ABX9TyMv258Y/TJ1acv6E6aN8Kvn",
      "include_colab_link": true
    },
    "kernelspec": {
      "name": "python3",
      "display_name": "Python 3"
    },
    "language_info": {
      "name": "python"
    }
  },
  "cells": [
    {
      "cell_type": "markdown",
      "metadata": {
        "id": "view-in-github",
        "colab_type": "text"
      },
      "source": [
        "<a href=\"https://colab.research.google.com/github/gaoray08/congenial-fishstick/blob/main/20_2.ipynb\" target=\"_parent\"><img src=\"https://colab.research.google.com/assets/colab-badge.svg\" alt=\"Open In Colab\"/></a>"
      ]
    },
    {
      "cell_type": "code",
      "execution_count": 24,
      "metadata": {
        "colab": {
          "base_uri": "https://localhost:8080/"
        },
        "id": "iSwm-Q60rZke",
        "outputId": "d0575353-3298-46ee-bf91-72d243fd8ae2"
      },
      "outputs": [
        {
          "output_type": "stream",
          "name": "stdout",
          "text": [
            "Goofy\n",
            "Pikachu\n",
            "prata\n"
          ]
        }
      ],
      "source": [
        "#Tell me how many ekements bear 2 vowels in the last 4 letters of the element\n",
        "\n",
        "names = [\"House\", \"Donald\", \"Goofy\", \"Pikachu\", \"Netflix\", \"Fantasy\"]\n",
        "vowels = \"aeiouAEIOU\"\n",
        "for character in names:\n",
        "  sliced_word = character[-4:]\n",
        "\n",
        "  count = 0\n",
        "  for letters in sliced_word:\n",
        "    if letters in vowels:\n",
        "      count += 1\n",
        "  if count == 2:\n",
        "    print(character)\n"
      ]
    },
    {
      "cell_type": "code",
      "source": [],
      "metadata": {
        "id": "hSfvuf_jeoA3"
      },
      "execution_count": null,
      "outputs": []
    }
  ]
}