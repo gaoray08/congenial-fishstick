{
  "nbformat": 4,
  "nbformat_minor": 0,
  "metadata": {
    "colab": {
      "provenance": [],
      "authorship_tag": "ABX9TyPDuMvQ6QCQ44hWkfw5+5/U",
      "include_colab_link": true
    },
    "kernelspec": {
      "name": "python3",
      "display_name": "Python 3"
    },
    "language_info": {
      "name": "python"
    }
  },
  "cells": [
    {
      "cell_type": "markdown",
      "metadata": {
        "id": "view-in-github",
        "colab_type": "text"
      },
      "source": [
        "<a href=\"https://colab.research.google.com/github/gaoray08/congenial-fishstick/blob/main/21_2.ipynb\" target=\"_parent\"><img src=\"https://colab.research.google.com/assets/colab-badge.svg\" alt=\"Open In Colab\"/></a>"
      ]
    },
    {
      "cell_type": "code",
      "execution_count": 16,
      "metadata": {
        "colab": {
          "base_uri": "https://localhost:8080/"
        },
        "id": "THMk4JNdg2Pr",
        "outputId": "970b4007-2606-4aad-cd62-1f6aaffd5b80"
      },
      "outputs": [
        {
          "output_type": "stream",
          "name": "stdout",
          "text": [
            "[98, 104, 100, 106, 102, 108, 104, 110, 106, 112, 108, 114, 110, 116, 112, 118, 114, 120, 116, 122, 118, 124, 120, 126, 122, 128, 124, 130, 126, 132, 128, 134, 130, 136, 132, 138, 134, 140, 136, 142, 138, 144, 140, 146, 142, 148, 144, 150, 146, 152, 148, 154, 150, 156, 152, 158, 154, 160, 156, 162, 158, 164, 160, 166, 162, 168, 164, 170, 166, 172, 168, 174, 170, 176, 172, 178, 174, 180, 176, 182, 178, 184, 180, 186, 182, 188, 184, 190, 186, 192, 188, 194, 190, 196, 192, 198, 194, 200, 196, 202]\n",
            "3234\n",
            "7650\n"
          ]
        }
      ],
      "source": [
        "#Create a program taht has a list of numbers from 101 to 200 inclusive\n",
        "#For every odd number, minus 3 from it.\n",
        "#For every even number, add 2 to it\n",
        "#Print out the new list\n",
        "#Add all the numbers with the odd index positions\n",
        "#Add all the numbers with the even index positions\n",
        "#The numbers must be divisible by 3 or 7\n",
        "\n",
        "numlist1 = list(range(101, 201))\n",
        "numlist2 = []\n",
        "numlist3 = []\n",
        "\n",
        "for numbers in numlist1:\n",
        "  if numbers%2 == 0:\n",
        "    numbers += 2\n",
        "    numlist2.append(numbers)\n",
        "  else:\n",
        "    numbers -= 3\n",
        "    numlist2.append(numbers)\n",
        "\n",
        "print(numlist2)\n",
        "\n",
        "oddsumlist = []\n",
        "evensumlist = []\n",
        "\n",
        "# oddsumlist = sum(numlist1[1::2])\n",
        "# indexes = [1,2,3,4,5]\n",
        "# indexes[a] -> returns number from index\n",
        "#indexes[a:b] -> returns list of numbers from index a to index b\n",
        "#indexes[a::b] -> returns list of numbers,starting from index a and jumping with b indexes\n",
        "\n",
        "#e.g. a=0,b=2\n",
        "#indexes[a] = 1\n",
        "#indexes[a:b] = [1,2,3]\n",
        "#indexes[a::b] = [1,3,5]\n",
        "for index, value in enumerate(numlist2):\n",
        "  if index%2 == 0:\n",
        "    if (value%3 == 0) or (value%7 == 0):\n",
        "      evensumlist.append(value)\n",
        "\n",
        "\n",
        "  else:\n",
        "      oddsumlist.append(value)\n",
        "\n",
        "print(sum(evensumlist))\n",
        "print(sum(oddsumlist))\n",
        "\n"
      ]
    },
    {
      "cell_type": "code",
      "source": [],
      "metadata": {
        "id": "5CqLd-DIlThQ"
      },
      "execution_count": null,
      "outputs": []
    }
  ]
}